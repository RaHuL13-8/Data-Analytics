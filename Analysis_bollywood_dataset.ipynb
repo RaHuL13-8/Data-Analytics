{
 "cells": [
  {
   "cell_type": "code",
   "execution_count": 311,
   "id": "7653d7e0",
   "metadata": {},
   "outputs": [],
   "source": [
    "import pandas as pd\n",
    "import matplotlib.pyplot as plt\n",
    "import seaborn as sns"
   ]
  },
  {
   "cell_type": "code",
   "execution_count": 312,
   "id": "89f59b25",
   "metadata": {},
   "outputs": [
    {
     "data": {
      "text/html": [
       "<div>\n",
       "<style scoped>\n",
       "    .dataframe tbody tr th:only-of-type {\n",
       "        vertical-align: middle;\n",
       "    }\n",
       "\n",
       "    .dataframe tbody tr th {\n",
       "        vertical-align: top;\n",
       "    }\n",
       "\n",
       "    .dataframe thead th {\n",
       "        text-align: right;\n",
       "    }\n",
       "</style>\n",
       "<table border=\"1\" class=\"dataframe\">\n",
       "  <thead>\n",
       "    <tr style=\"text-align: right;\">\n",
       "      <th></th>\n",
       "      <th>SlNo</th>\n",
       "      <th>Release Date</th>\n",
       "      <th>MovieName</th>\n",
       "      <th>ReleaseTime</th>\n",
       "      <th>Genre</th>\n",
       "      <th>Budget</th>\n",
       "      <th>BoxOfficeCollection</th>\n",
       "      <th>YoutubeViews</th>\n",
       "      <th>YoutubeLikes</th>\n",
       "      <th>YoutubeDislikes</th>\n",
       "    </tr>\n",
       "  </thead>\n",
       "  <tbody>\n",
       "    <tr>\n",
       "      <th>0</th>\n",
       "      <td>1</td>\n",
       "      <td>18-Apr-14</td>\n",
       "      <td>2 States</td>\n",
       "      <td>LW</td>\n",
       "      <td>Romance</td>\n",
       "      <td>36</td>\n",
       "      <td>104.00</td>\n",
       "      <td>8576361</td>\n",
       "      <td>26622</td>\n",
       "      <td>2527</td>\n",
       "    </tr>\n",
       "    <tr>\n",
       "      <th>1</th>\n",
       "      <td>2</td>\n",
       "      <td>4-Jan-13</td>\n",
       "      <td>Table No. 21</td>\n",
       "      <td>N</td>\n",
       "      <td>Thriller</td>\n",
       "      <td>10</td>\n",
       "      <td>12.00</td>\n",
       "      <td>1087320</td>\n",
       "      <td>1129</td>\n",
       "      <td>137</td>\n",
       "    </tr>\n",
       "    <tr>\n",
       "      <th>2</th>\n",
       "      <td>3</td>\n",
       "      <td>18-Jul-14</td>\n",
       "      <td>Amit Sahni Ki List</td>\n",
       "      <td>N</td>\n",
       "      <td>Comedy</td>\n",
       "      <td>10</td>\n",
       "      <td>4.00</td>\n",
       "      <td>572336</td>\n",
       "      <td>586</td>\n",
       "      <td>54</td>\n",
       "    </tr>\n",
       "    <tr>\n",
       "      <th>3</th>\n",
       "      <td>4</td>\n",
       "      <td>4-Jan-13</td>\n",
       "      <td>Rajdhani Express</td>\n",
       "      <td>N</td>\n",
       "      <td>Drama</td>\n",
       "      <td>7</td>\n",
       "      <td>0.35</td>\n",
       "      <td>42626</td>\n",
       "      <td>86</td>\n",
       "      <td>19</td>\n",
       "    </tr>\n",
       "    <tr>\n",
       "      <th>4</th>\n",
       "      <td>5</td>\n",
       "      <td>4-Jul-14</td>\n",
       "      <td>Bobby Jasoos</td>\n",
       "      <td>N</td>\n",
       "      <td>Comedy</td>\n",
       "      <td>18</td>\n",
       "      <td>10.80</td>\n",
       "      <td>3113427</td>\n",
       "      <td>4512</td>\n",
       "      <td>1224</td>\n",
       "    </tr>\n",
       "    <tr>\n",
       "      <th>5</th>\n",
       "      <td>6</td>\n",
       "      <td>30-May-14</td>\n",
       "      <td>Citylights</td>\n",
       "      <td>HS</td>\n",
       "      <td>Drama</td>\n",
       "      <td>7</td>\n",
       "      <td>35.00</td>\n",
       "      <td>1076591</td>\n",
       "      <td>1806</td>\n",
       "      <td>84</td>\n",
       "    </tr>\n",
       "    <tr>\n",
       "      <th>6</th>\n",
       "      <td>7</td>\n",
       "      <td>19-Sep-14</td>\n",
       "      <td>Daawat-E-Ishq</td>\n",
       "      <td>N</td>\n",
       "      <td>Comedy</td>\n",
       "      <td>30</td>\n",
       "      <td>24.60</td>\n",
       "      <td>3905050</td>\n",
       "      <td>8315</td>\n",
       "      <td>1373</td>\n",
       "    </tr>\n",
       "    <tr>\n",
       "      <th>7</th>\n",
       "      <td>8</td>\n",
       "      <td>11-Jan-13</td>\n",
       "      <td>Matru Ki Bijlee Ka Mandola</td>\n",
       "      <td>N</td>\n",
       "      <td>Comedy</td>\n",
       "      <td>33</td>\n",
       "      <td>40.00</td>\n",
       "      <td>2435283</td>\n",
       "      <td>4326</td>\n",
       "      <td>647</td>\n",
       "    </tr>\n",
       "    <tr>\n",
       "      <th>8</th>\n",
       "      <td>9</td>\n",
       "      <td>10-Jan-14</td>\n",
       "      <td>Dedh Ishqiya</td>\n",
       "      <td>LW</td>\n",
       "      <td>Comedy</td>\n",
       "      <td>31</td>\n",
       "      <td>27.00</td>\n",
       "      <td>2333067</td>\n",
       "      <td>2436</td>\n",
       "      <td>591</td>\n",
       "    </tr>\n",
       "    <tr>\n",
       "      <th>9</th>\n",
       "      <td>10</td>\n",
       "      <td>11-Jan-13</td>\n",
       "      <td>Gangoobai</td>\n",
       "      <td>N</td>\n",
       "      <td>Drama</td>\n",
       "      <td>2</td>\n",
       "      <td>0.01</td>\n",
       "      <td>4354</td>\n",
       "      <td>1</td>\n",
       "      <td>1</td>\n",
       "    </tr>\n",
       "  </tbody>\n",
       "</table>\n",
       "</div>"
      ],
      "text/plain": [
       "   SlNo Release Date                   MovieName ReleaseTime      Genre  \\\n",
       "0     1    18-Apr-14                    2 States          LW    Romance   \n",
       "1     2     4-Jan-13                Table No. 21           N  Thriller    \n",
       "2     3    18-Jul-14          Amit Sahni Ki List           N     Comedy   \n",
       "3     4     4-Jan-13            Rajdhani Express           N     Drama    \n",
       "4     5     4-Jul-14                Bobby Jasoos           N     Comedy   \n",
       "5     6    30-May-14                  Citylights          HS     Drama    \n",
       "6     7    19-Sep-14               Daawat-E-Ishq           N     Comedy   \n",
       "7     8    11-Jan-13  Matru Ki Bijlee Ka Mandola           N     Comedy   \n",
       "8     9    10-Jan-14                Dedh Ishqiya          LW     Comedy   \n",
       "9    10    11-Jan-13                   Gangoobai           N     Drama    \n",
       "\n",
       "   Budget  BoxOfficeCollection  YoutubeViews  YoutubeLikes  YoutubeDislikes  \n",
       "0      36               104.00       8576361         26622             2527  \n",
       "1      10                12.00       1087320          1129              137  \n",
       "2      10                 4.00        572336           586               54  \n",
       "3       7                 0.35         42626            86               19  \n",
       "4      18                10.80       3113427          4512             1224  \n",
       "5       7                35.00       1076591          1806               84  \n",
       "6      30                24.60       3905050          8315             1373  \n",
       "7      33                40.00       2435283          4326              647  \n",
       "8      31                27.00       2333067          2436              591  \n",
       "9       2                 0.01          4354             1                1  "
      ]
     },
     "execution_count": 312,
     "metadata": {},
     "output_type": "execute_result"
    }
   ],
   "source": [
    "df=pd.read_csv(\"bollywood.csv\")\n",
    "df.head(10)"
   ]
  },
  {
   "cell_type": "code",
   "execution_count": 313,
   "id": "b17375b8",
   "metadata": {},
   "outputs": [
    {
     "name": "stdout",
     "output_type": "stream",
     "text": [
      "149\n"
     ]
    }
   ],
   "source": [
    "#How many records are present in dataset\n",
    "index=df.index\n",
    "Number_of_records=len(index)\n",
    "print(Number_of_records)"
   ]
  },
  {
   "cell_type": "code",
   "execution_count": 314,
   "id": "ec2beba7",
   "metadata": {},
   "outputs": [
    {
     "data": {
      "text/plain": [
       "5"
      ]
     },
     "execution_count": 314,
     "metadata": {},
     "output_type": "execute_result"
    }
   ],
   "source": [
    "#*Number of genre in dataset\n",
    "df['Genre']=df.Genre.str.strip()\n",
    "df['Genre'].nunique()\n"
   ]
  },
  {
   "cell_type": "code",
   "execution_count": 315,
   "id": "c4452788",
   "metadata": {},
   "outputs": [
    {
     "name": "stdout",
     "output_type": "stream",
     "text": [
      "119    Krrish 3\n",
      "Name: MovieName, dtype: object\n"
     ]
    }
   ],
   "source": [
    "#*Movie having highest number of youtube views\n",
    "max_views=df['YoutubeViews'].max()\n",
    "movie_name=df[df['YoutubeViews']==max_views].MovieName\n",
    "print(movie_name)"
   ]
  },
  {
   "cell_type": "code",
   "execution_count": 316,
   "id": "f64e4019",
   "metadata": {},
   "outputs": [
    {
     "name": "stdout",
     "output_type": "stream",
     "text": [
      "N     99\n",
      "HS    18\n",
      "FS    17\n",
      "LW    15\n",
      "Name: ReleaseTime, dtype: int64\n"
     ]
    }
   ],
   "source": [
    "#How many movies got released in each Release Time?Sort number of releases in each Release Time in descending order.\n",
    "print(df['ReleaseTime'].value_counts().sort_values(ascending=False))\n",
    "\n"
   ]
  },
  {
   "cell_type": "code",
   "execution_count": 317,
   "id": "ddf9c111",
   "metadata": {},
   "outputs": [
    {
     "name": "stdout",
     "output_type": "stream",
     "text": [
      "N\n"
     ]
    }
   ],
   "source": [
    "#Which genre had highest number of releases\n",
    "print(df['ReleaseTime'].value_counts().idxmax())"
   ]
  },
  {
   "cell_type": "code",
   "execution_count": 318,
   "id": "707a944d",
   "metadata": {},
   "outputs": [
    {
     "data": {
      "text/html": [
       "<div>\n",
       "<style scoped>\n",
       "    .dataframe tbody tr th:only-of-type {\n",
       "        vertical-align: middle;\n",
       "    }\n",
       "\n",
       "    .dataframe tbody tr th {\n",
       "        vertical-align: top;\n",
       "    }\n",
       "\n",
       "    .dataframe thead th {\n",
       "        text-align: right;\n",
       "    }\n",
       "</style>\n",
       "<table border=\"1\" class=\"dataframe\">\n",
       "  <thead>\n",
       "    <tr style=\"text-align: right;\">\n",
       "      <th>ReleaseTime</th>\n",
       "      <th>FS</th>\n",
       "      <th>HS</th>\n",
       "      <th>LW</th>\n",
       "      <th>N</th>\n",
       "    </tr>\n",
       "    <tr>\n",
       "      <th>Genre</th>\n",
       "      <th></th>\n",
       "      <th></th>\n",
       "      <th></th>\n",
       "      <th></th>\n",
       "    </tr>\n",
       "  </thead>\n",
       "  <tbody>\n",
       "    <tr>\n",
       "      <th>Action</th>\n",
       "      <td>3</td>\n",
       "      <td>3</td>\n",
       "      <td>3</td>\n",
       "      <td>15</td>\n",
       "    </tr>\n",
       "    <tr>\n",
       "      <th>Comedy</th>\n",
       "      <td>3</td>\n",
       "      <td>5</td>\n",
       "      <td>5</td>\n",
       "      <td>23</td>\n",
       "    </tr>\n",
       "    <tr>\n",
       "      <th>Drama</th>\n",
       "      <td>4</td>\n",
       "      <td>6</td>\n",
       "      <td>1</td>\n",
       "      <td>24</td>\n",
       "    </tr>\n",
       "    <tr>\n",
       "      <th>Romance</th>\n",
       "      <td>3</td>\n",
       "      <td>3</td>\n",
       "      <td>4</td>\n",
       "      <td>15</td>\n",
       "    </tr>\n",
       "    <tr>\n",
       "      <th>Thriller</th>\n",
       "      <td>4</td>\n",
       "      <td>1</td>\n",
       "      <td>2</td>\n",
       "      <td>22</td>\n",
       "    </tr>\n",
       "  </tbody>\n",
       "</table>\n",
       "</div>"
      ],
      "text/plain": [
       "ReleaseTime  FS  HS  LW   N\n",
       "Genre                      \n",
       "Action        3   3   3  15\n",
       "Comedy        3   5   5  23\n",
       "Drama         4   6   1  24\n",
       "Romance       3   3   4  15\n",
       "Thriller      4   1   2  22"
      ]
     },
     "execution_count": 318,
     "metadata": {},
     "output_type": "execute_result"
    }
   ],
   "source": [
    "#How many movies in each genre got released in different release times like weekend,festive season,etc.\n",
    "pd.crosstab(df.Genre,df.ReleaseTime)"
   ]
  },
  {
   "cell_type": "code",
   "execution_count": 319,
   "id": "b3f38927",
   "metadata": {},
   "outputs": [
    {
     "name": "stdout",
     "output_type": "stream",
     "text": [
      "12\n"
     ]
    }
   ],
   "source": [
    "#Which month of the year were leastnumber movie releases are seen? (Note: Extract a new column called month fromReleaseDatecolumn.)\n",
    "df[\"month\"]=pd.to_datetime(df['Release Date']).dt.month\n",
    "df.head()\n",
    "min_val=df[\"month\"].value_counts().idxmin()\n",
    "print(min_val)"
   ]
  },
  {
   "cell_type": "code",
   "execution_count": 320,
   "id": "d6d51855",
   "metadata": {},
   "outputs": [
    {
     "name": "stdout",
     "output_type": "stream",
     "text": [
      "5\n"
     ]
    }
   ],
   "source": [
    "#Which month of the year typically seesmost releases of lowbudgeted movies, that is, movies with budget less than 25 crore ?\n",
    "print(df[df[\"Budget\"]<25].month.value_counts().idxmax())"
   ]
  },
  {
   "cell_type": "code",
   "execution_count": 321,
   "id": "8cbd2be0",
   "metadata": {},
   "outputs": [
    {
     "name": "stdout",
     "output_type": "stream",
     "text": [
      "64    Aashiqui 2\n",
      "Name: MovieName, dtype: object\n"
     ]
    }
   ],
   "source": [
    "#Which are the top 10 movies with maximum return on investment (ROI)? Calculate return on investment (ROI) as (BoxOfficeCollection–Budget) / Budget.\n",
    "df[\"ROI\"]=df.apply(lambda x:(x.BoxOfficeCollection-x.Budget)/(x.Budget),axis=1)\n",
    "df.head(10)\n",
    "print(df[df[\"ROI\"]==df[\"ROI\"].max()].MovieName)\n"
   ]
  },
  {
   "cell_type": "code",
   "execution_count": 322,
   "id": "b4c6994e",
   "metadata": {},
   "outputs": [
    {
     "name": "stdout",
     "output_type": "stream",
     "text": [
      "{'LW': 1.1272053098737973, 'N': 0.6577216305350877, 'HS': 0.8508667840873724, 'FS': 0.9738532013595953}\n",
      "Here we can see that movies with release on Holiday or festive season have greater return than normal days but their return is less than long weeekend releases\n"
     ]
    },
    {
     "data": {
      "text/plain": [
       "ReleaseTime\n",
       "FS    0.973853\n",
       "HS    0.850867\n",
       "LW    1.127205\n",
       "N     0.657722\n",
       "Name: ROI, dtype: float64"
      ]
     },
     "execution_count": 322,
     "metadata": {},
     "output_type": "execute_result"
    }
   ],
   "source": [
    "#Do the movies have higher ROI if they get released on festive seasons or holiday season? Calculate the average ROI for different release times.\n",
    "Roi={}\n",
    "for i in df.ReleaseTime.unique():\n",
    "    Roi[i]=df[df['ReleaseTime']==i].ROI.mean()\n",
    "print(Roi)\n",
    "print(\"Here we can see that movies with release on Holiday or festive season have greater return than normal days but their return is less than long weeekend releases\")\n",
    "df.groupby(['ReleaseTime']).ROI.mean()"
   ]
  },
  {
   "cell_type": "code",
   "execution_count": 323,
   "id": "8eeaf3d4",
   "metadata": {},
   "outputs": [
    {
     "name": "stdout",
     "output_type": "stream",
     "text": [
      "0.6825165877731297\n"
     ]
    }
   ],
   "source": [
    "#Is there a correlation between box office collection and YouTube Likes? Is the correlation positive or negative?\n",
    "column_1=df[\"BoxOfficeCollection\"]\n",
    "column_2=df[\"YoutubeLikes\"]\n",
    "correlation=column_1.corr(column_2)\n",
    "print(correlation)"
   ]
  },
  {
   "cell_type": "code",
   "execution_count": 324,
   "id": "6a421fbd",
   "metadata": {},
   "outputs": [
    {
     "data": {
      "image/png": "[encoded data removed]",
      "text/plain": [
       "<Figure size 432x288 with 1 Axes>"
      ]
     },
     "metadata": {
      "needs_background": "light"
     },
     "output_type": "display_data"
    }
   ],
   "source": [
    "#Which genre of movies typically sees more YouTube views? Draw boxplots for each genre of movies to compare.\n",
    "genre_views={}\n",
    "for i in df[\"Genre\"].unique():\n",
    "    genre_views[i]=df[df[\"Genre\"]==i].YoutubeViews\n",
    "plt.boxplot([x for x in genre_views.values()],labels=[x for x in genre_views.keys()])\n",
    "plt.xlabel('Genre')\n",
    "plt.ylabel('YoutubeViews')\n",
    "plt.title('Genre vs YoutubeViews')\n",
    "\n",
    "plt.show()"
   ]
  },
  {
   "cell_type": "code",
   "execution_count": 325,
   "id": "c560587e",
   "metadata": {},
   "outputs": [
    {
     "data": {
      "text/plain": [
       "<AxesSubplot:title={'center':'YoutubeViews'}, xlabel='Genre'>"
      ]
     },
     "execution_count": 325,
     "metadata": {},
     "output_type": "execute_result"
    },
    {
     "data": {
      "image/png": "[encoded data removed]",
      "text/plain": [
       "<Figure size 432x288 with 1 Axes>"
      ]
     },
     "metadata": {
      "needs_background": "light"
     },
     "output_type": "display_data"
    }
   ],
   "source": [
    "df.boxplot(by ='Genre', column =['YoutubeViews'], grid = False)"
   ]
  },
  {
   "cell_type": "code",
   "execution_count": 326,
   "id": "101c7a81",
   "metadata": {},
   "outputs": [
    {
     "name": "stdout",
     "output_type": "stream",
     "text": [
      "                       Budget  BoxOfficeCollection  YoutubeViews  \\\n",
      "Budget               1.000000             0.650401      0.589038   \n",
      "BoxOfficeCollection  0.650401             1.000000      0.588632   \n",
      "YoutubeViews         0.589038             0.588632      1.000000   \n",
      "YoutubeLikes         0.608916             0.682517      0.884055   \n",
      "YoutubeDislikes      0.665343             0.623941      0.846739   \n",
      "\n",
      "                     YoutubeLikes  YoutubeDislikes  \n",
      "Budget                   0.608916         0.665343  \n",
      "BoxOfficeCollection      0.682517         0.623941  \n",
      "YoutubeViews             0.884055         0.846739  \n",
      "YoutubeLikes             1.000000         0.859730  \n",
      "YoutubeDislikes          0.859730         1.000000  \n"
     ]
    }
   ],
   "source": [
    "#Which of the variables among Budget,BoxOfficeCollection,YoutubeView,YoutubeLikes,YoutubeDislikes are highly correlated? Note: Draw pair plot orheatmap.\n",
    "cols=['Budget','BoxOfficeCollection','YoutubeViews','YoutubeLikes','YoutubeDislikes']\n",
    "df_1=df[cols]\n",
    "corr=df_1.corr()\n",
    "\n",
    "print(corr)\n"
   ]
  },
  {
   "cell_type": "code",
   "execution_count": 327,
   "id": "85ac42f2",
   "metadata": {},
   "outputs": [
    {
     "data": {
      "image/png": "[encoded data removed]",
      "text/plain": [
       "<Figure size 900x900 with 30 Axes>"
      ]
     },
     "metadata": {
      "needs_background": "light"
     },
     "output_type": "display_data"
    }
   ],
   "source": [
    "sns.pairplot(corr, diag_kws={'bins': 10})\n",
    "plt.show()"
   ]
  },
  {
   "cell_type": "code",
   "execution_count": 328,
   "id": "b9eb4a56",
   "metadata": {},
   "outputs": [
    {
     "data": {
      "image/png": "[encoded data removed]",
      "text/plain": [
       "<Figure size 432x288 with 1 Axes>"
      ]
     },
     "metadata": {
      "needs_background": "light"
     },
     "output_type": "display_data"
    },
    {
     "name": "stdout",
     "output_type": "stream",
     "text": [
      "{'Romance': 52.84120000000001, 'Thriller': 27.936206896551727, 'Comedy': 46.115, 'Drama': 65.79314285714287, 'Action': 91.68083333333334}\n"
     ]
    }
   ],
   "source": [
    "#During 2013−2015 period,highlight the genre of movies and their box office collection? Visualize with best fit graph.\n",
    "df[\"year\"]=pd.to_datetime(df['Release Date']).dt.year\n",
    "year={}\n",
    "df.head()\n",
    "for i in df[\"Genre\"].unique():\n",
    "    year[i]=df[df[\"Genre\"]==i].BoxOfficeCollection.mean()\n",
    "plt.bar(year.keys(),year.values())\n",
    "plt.show()\n",
    "\n",
    "print(year)"
   ]
  },
  {
   "cell_type": "code",
   "execution_count": 329,
   "id": "0c42c09d",
   "metadata": {},
   "outputs": [
    {
     "data": {
      "image/png": "[encoded data removed]",
      "text/plain": [
       "<Figure size 432x288 with 1 Axes>"
      ]
     },
     "metadata": {
      "needs_background": "light"
     },
     "output_type": "display_data"
    },
    {
     "data": {
      "image/png": "[encoded data removed]",
      "text/plain": [
       "<Figure size 432x288 with 1 Axes>"
      ]
     },
     "metadata": {
      "needs_background": "light"
     },
     "output_type": "display_data"
    }
   ],
   "source": [
    "#Visualize the Budget and Box office collection based on Genre\n",
    "plt.bar(df.Genre,df.Budget)\n",
    "plt.xlabel('Genre')\n",
    "plt.ylabel('Budget')\n",
    "plt.title('Genre Vs Budget')\n",
    "plt.show()\n",
    "plt.bar(df.Genre,df.BoxOfficeCollection)\n",
    "plt.xlabel('Genre')\n",
    "plt.ylabel('Box Office Collection')\n",
    "plt.title('Genre Vs Box Office Colection')\n",
    "plt.show()\n",
    "\n",
    "\n",
    "\n"
   ]
  },
  {
   "cell_type": "code",
   "execution_count": 330,
   "id": "65b417f3",
   "metadata": {},
   "outputs": [
    {
     "data": {
      "image/png": "[encoded data removed]",
      "text/plain": [
       "<Figure size 432x288 with 1 Axes>"
      ]
     },
     "metadata": {
      "needs_background": "light"
     },
     "output_type": "display_data"
    }
   ],
   "source": [
    "#Find the distribution of movie budget for every Genre.\n",
    "plt.scatter(df.Genre,df.BoxOfficeCollection)\n",
    "plt.xlabel('Genre')\n",
    "plt.ylabel('BoxOfficeCollection')\n",
    "plt.title('Genre Vs BoxOfficeCollection')\n",
    "plt.show()"
   ]
  },
  {
   "cell_type": "code",
   "execution_count": 331,
   "id": "1f3bdc3b",
   "metadata": {},
   "outputs": [
    {
     "data": {
      "image/png": "[encoded data removed]",
      "text/plain": [
       "<Figure size 432x288 with 1 Axes>"
      ]
     },
     "metadata": {
      "needs_background": "light"
     },
     "output_type": "display_data"
    },
    {
     "data": {
      "image/png": "[encoded data removed]",
      "text/plain": [
       "<Figure size 432x288 with 1 Axes>"
      ]
     },
     "metadata": {
      "needs_background": "light"
     },
     "output_type": "display_data"
    }
   ],
   "source": [
    "#During 2013−2015, Visualize the number of Youtube views, Youtube likes released in every year. Also, visualize with best fit graph.\n",
    "movies_year={}\n",
    "for i in df[\"year\"].unique():\n",
    "    movies_year[i]=df[df[\"year\"]==i].YoutubeViews.sum()\n",
    "plt.bar([x for x in movies_year.keys()],[x for x in movies_year.values()])\n",
    "plt.xlabel('Year')\n",
    "plt.ylabel('Youtube Views')\n",
    "plt.title('Youtube views vs year')\n",
    "plt.show()\n",
    "movies_year_2={}\n",
    "for i in df[\"year\"].unique():\n",
    "    movies_year_2[i]=df[df[\"year\"]==i].YoutubeLikes.sum()\n",
    "plt.bar([x for x in movies_year_2.keys()],[x for x in movies_year_2.values()])\n",
    "plt.xlabel('Year')\n",
    "plt.ylabel('Youtube Likes')\n",
    "plt.title('Youtube Likes vs year')\n",
    "plt.show()\n",
    "\n",
    "    "
   ]
  }
 ],
 "metadata": {
  "kernelspec": {
   "display_name": "Python 3 (ipykernel)",
   "language": "python",
   "name": "python3"
  },
  "language_info": {
   "codemirror_mode": {
    "name": "ipython",
    "version": 3
   },
   "file_extension": ".py",
   "mimetype": "text/x-python",
   "name": "python",
   "nbconvert_exporter": "python",
   "pygments_lexer": "ipython3",
   "version": "3.9.2"
  }
 },
 "nbformat": 4,
 "nbformat_minor": 5
}
